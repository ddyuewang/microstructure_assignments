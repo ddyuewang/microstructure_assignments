{
 "cells": [
  {
   "cell_type": "markdown",
   "metadata": {},
   "source": [
    "# MTH9879 Homework 4 Yixiang Wang\n",
    "\n",
    "Assigned: March 8, 2016.\n",
    "Due: March 22, 2016 by 6pm. \n",
    "\n",
    "Late homework **will not be accepted**.\n",
    "\n",
    "$$\n",
    "\\newcommand{\\underbar}{\\underline}\n",
    "\\newcommand{\\supp}{\\mathrm{supp}}\n",
    "\\newcommand{\\E}{\\mathbb{E}}\n",
    "\\newcommand{\\EE}{\\mathbb{E}}\n",
    "\\newcommand{\\Eof}[1]{\\mathbb{E}\\left[ #1 \\right]}\n",
    "\\def\\Cov{{ \\mbox{Cov} }}\n",
    "\\def\\Var{{ \\mbox{Var} }}\n",
    "\\newcommand{\\1}{\\mathbf{1} }\n",
    "\\newcommand{\\PP}{\\mathbb{P} }\n",
    "%\\newcommand{\\Pr}{\\mathrm{Pr} }\n",
    "\\newcommand{\\QQ}{\\mathbb{Q} }\n",
    "\\newcommand{\\RR}{\\mathbb{R} }\n",
    "\\newcommand{\\DD}{\\mathbb{D} }\n",
    "\\newcommand{\\HH}{\\mathbb{H} }\n",
    "\\newcommand{\\spn}{\\mathrm{span} }\n",
    "\\newcommand{\\cov}{\\mathrm{cov} }\n",
    "\\newcommand{\\sgn}{\\mathrm{sgn} }\n",
    "\\newcommand{\\HS}{\\mathcal{L}_{\\mathrm{HS}} }\n",
    "%\\newcommand{\\HS}{\\mathrm{HS} }\n",
    "\\newcommand{\\trace}{\\mathrm{trace} }\n",
    "\\newcommand{\\LL}{\\mathcal{L} }\n",
    "%\\newcommand{\\LL}{\\mathrm{L} }\n",
    "\\newcommand{\\s}{\\mathcal{S} }\n",
    "\\newcommand{\\ee}{\\mathcal{E} }\n",
    "\\newcommand{\\ff}{\\mathcal{F} }\n",
    "\\newcommand{\\hh}{\\mathcal{H} }\n",
    "\\newcommand{\\bb}{\\mathcal{B} }\n",
    "\\newcommand{\\dd}{\\mathcal{D} }\n",
    "\\newcommand{\\g}{\\mathcal{G} }\n",
    "\\newcommand{\\p}{\\partial}\n",
    "\\newcommand{\\half}{\\frac{1}{2} }\n",
    "\\newcommand{\\T}{\\mathcal{T} }\n",
    "\\newcommand{\\bi}{\\begin{itemize}}\n",
    "\\newcommand{\\ei}{\\end{itemize}}\n",
    "\\newcommand{\\beq}{\\begin{equation}}\n",
    "\\newcommand{\\eeq}{\\end{equation}}\n",
    "\\newcommand{\\beas}{\\begin{eqnarray*}}\n",
    "\\newcommand{\\eeas}{\\end{eqnarray*}}\n",
    "\\newcommand{\\cO}{\\mathcal{O}}\n",
    "\\newcommand{\\cF}{\\mathcal{F}}\n",
    "\\newcommand{\\cL}{\\mathcal{L}}\n",
    "\\newcommand{\\BS}{\\text{BS}}\n",
    "$$"
   ]
  },
  {
   "cell_type": "markdown",
   "metadata": {},
   "source": [
    "<font color = \"red\">Homework is to be done by each student individually.  To receive full credit, you must email a completed copy of this iPython notebook to Tai-Ho Wang (tai-ho.wang@baruch.cuny.edu) and Jim Gatheral (jim.gatheral@baruch.cuny.edu) by the due date and time.  All R-code must run correctly and solutions must be written up neatly in Markdown/LaTeX format.\n",
    "\n",
    "<font color=\"blue\">If you encounter problems with Markdown/LaTeX or iPython notebook, please contact Yuxi Liu, who has kindly offered to help.\n"
   ]
  },
  {
   "cell_type": "markdown",
   "metadata": {},
   "source": [
    "### 0. (0 points) \n",
    "Read Chapter 5 and 6 of Hasbrouck and Chapters 2 and 3 of Foucault, Pagano and R&ouml;ell. \n"
   ]
  },
  {
   "cell_type": "markdown",
   "metadata": {},
   "source": [
    "## Glosten and Milgrom"
   ]
  },
  {
   "cell_type": "markdown",
   "metadata": {},
   "source": [
    "### 1. (8 points) \n",
    "\n",
    "(Adapted from Hasbrouck 5.2 but please note that the setup in (3) in the slides is different from Hasbrouck's in Figure 5.1 of his book.) Consider a variant of the Glosten and Milgrom model where there is informed trading only in the low state $V=\\underline V$.\n",
    "\n",
    "(a) Show that the learned probability after one step that the true price is $\\bar V$ is given by\n",
    "\n",
    "$$\n",
    "\\delta_1(Buy)=\\Pr(\\bar V|Buy)=\\frac{\\delta}{1-\\mu\\,(1-\\delta)};\\quad \\delta_1(Sell)=\\Pr(\\bar V|Sell)=\\frac{\\delta}{1+\\mu\\,(1-\\delta)}\n",
    "$$\n",
    "\n",
    "and that\n",
    "\n",
    "$$\n",
    "A=\\frac{\\underline V\\,{(1-\\delta)\\,(1-\\mu)}+\\bar V\\,{\\delta}}{{1-\\mu\\,(1-\\delta)}};\\quad B=\\frac{\\underline V\\,{(1-\\delta)\\,(1+\\mu)}+\\bar V\\,{\\delta}}{1+\\mu\\,(1-\\delta)}\n",
    "$$\n",
    "\n",
    "\n",
    ">ANSWER:\n",
    "\n",
    ">$\\delta_1(BUY)$\n",
    "\n",
    ">$=P(\\bar V and BUY)/P(BUY)$\n",
    "\n",
    ">$=(1/2\\delta)/[1/2[1-\\mu \\times (1-\\mu)]$\n",
    "\n",
    ">$=\\delta/(0.5\\times (1-\\mu(1-\\delta)))$\n",
    "\n",
    ">$=\\frac{\\delta}{1-\\mu(1-\\delta)}$\n",
    "\n",
    ">Similarly, we have:\n",
    "\n",
    ">$\\delta_1(BUY)=\\frac{\\delta}{1+\\mu(1-\\delta)}$\n",
    "\n",
    ">Also:\n",
    "\n",
    ">$A=E(V|BUY)=\\bar V \\times P(\\bar V| NUY) + \\underline V \\times P(\\underline V| BUY)$\n",
    "\n",
    ">$=\\frac{\\underline V (1-\\delta)(1-\\mu)+\\bar V \\delta}{1-\\mu(1-\\delta)}$\n",
    "\n",
    ">Similarly, we have:\n",
    "\n",
    ">$B=\\frac{\\underline V\\,{(1-\\delta)\\,(1+\\mu)}+\\bar V\\,{\\delta}}{1+\\mu\\,(1-\\delta)}$\n",
    "\n",
    "(b) Deduce an expression for the spread $s=A-B$.\n",
    "\n",
    "> ANSWER:\n",
    "\n",
    ">From (a), we can easily derive that:\n",
    "\n",
    ">$s=A-B$\n",
    "\n",
    ">$=\\frac{\\underline V (1-\\delta)(1-\\mu)+\\bar V \\delta}{1-\\mu(1-\\delta)}-\\frac{\\underline V\\,{(1-\\delta)\\,(1+\\mu)}+\\bar V\\,{\\delta}}{1+\\mu\\,(1-\\delta)}$\n",
    "\n",
    ">$=\\frac{2 (\\bar V - \\underline V)\\times \\mu \\times \\delta \\times (1-\\delta)}{1-\\mu ^2 (1-\\delta) ^2}$\n",
    "\n",
    "(c) Explain the sensitivities of the spread to the parameters of the model to a non-expert.\n"
   ]
  },
  {
   "cell_type": "markdown",
   "metadata": {},
   "source": [
    "### Load data and R packages for the next questions"
   ]
  },
  {
   "cell_type": "code",
   "execution_count": 1,
   "metadata": {
    "collapsed": false
   },
   "outputs": [],
   "source": [
    "download.file(url=\"http://mfe.baruch.cuny.edu/wp-content/uploads/2015/02/tq.zip\", destfile=\"tq.zip\")\n",
    "unzip(zipfile=\"tq.zip\")"
   ]
  },
  {
   "cell_type": "code",
   "execution_count": 5,
   "metadata": {
    "collapsed": false
   },
   "outputs": [
    {
     "ename": "ERROR",
     "evalue": "Error in library(highfrequency): there is no package called ‘highfrequency’\n",
     "output_type": "error",
     "traceback": [
      "Error in library(highfrequency): there is no package called ‘highfrequency’\n"
     ]
    }
   ],
   "source": [
    "load('tq.rData')\n",
    "library(highfrequency)\n",
    "library(xts)"
   ]
  },
  {
   "cell_type": "markdown",
   "metadata": {},
   "source": [
    "## The Lee and Ready tick test"
   ]
  },
  {
   "cell_type": "markdown",
   "metadata": {},
   "source": [
    "### 2. (10 points) \n",
    "\n",
    "In the following use the trades and quotes object *tqBAC* in the loaded data *tq.rData*.  Denote trade prices by $p_t$ and mid-quotes by $m_t$.\n",
    "\n",
    "(a) Compute the time series of trade signs $\\epsilon_t$ according to $\\epsilon_t=+1$ if $p_t>m_t$ and  $\\epsilon_t=-1$ otherwise, using the Lee-Ready rule for trades at mid.  Name this series *tradeSigns*. (Note this was already done in the lecture.)"
   ]
  },
  {
   "cell_type": "code",
   "execution_count": 12,
   "metadata": {
    "collapsed": false
   },
   "outputs": [
    {
     "name": "stderr",
     "output_type": "stream",
     "text": [
      "\n",
      "Attaching package: ‘highfrequency’\n",
      "\n",
      "The following objects are masked from ‘package:quantmod’:\n",
      "\n",
      "    getPrice, has.Qty\n",
      "\n"
     ]
    }
   ],
   "source": [
    "#check if some necessary packages are installed\n",
    "#if not, install them\n",
    "options(repos=structure(c(CRAN=\"http://cran.at.r-project.org/\")))\n",
    "list.of.packages <- c(\"highfrequency\",\"quantmod\")\n",
    "new.packages <- \n",
    "list.of.packages[!(list.of.packages %in% installed.packages()[,\"Package\"])]\n",
    "if(length(new.packages)) install.packages(new.packages)\n",
    "#include the libraries\n",
    "library(highfrequency)\n",
    "library(quantmod)"
   ]
  },
  {
   "cell_type": "code",
   "execution_count": 13,
   "metadata": {
    "collapsed": false
   },
   "outputs": [],
   "source": [
    "# (a) Compute the time series of trade signs\n",
    "tradeSigns = getTradeDirection(tqBAC) "
   ]
  },
  {
   "cell_type": "markdown",
   "metadata": {},
   "source": [
    "(b) Compute the Lee-Ready trade-sign indicator time series (as if you didn't have quotes and so no mid-prices)."
   ]
  },
  {
   "cell_type": "code",
   "execution_count": 14,
   "metadata": {
    "collapsed": true
   },
   "outputs": [],
   "source": [
    "# (b) Compute the Lee-Ready trade-sign indicator time series\n",
    "ts_price = as.numeric(tqBAC$PRICE)\n",
    "len_price = length(ts_price)\n",
    "ts_indicator = rep(0,length(ts_price)-1)\n",
    "ts_indicator[1] = 1\n",
    "\n",
    "for(i in 2:len_price){\n",
    "    if (ts_price[i] > ts_price[i-1])\n",
    "        ts_indicator[i-1] = 1\n",
    "    else if (ts_price[i] < ts_price[i-1])\n",
    "        ts_indicator[i-1] = -1\n",
    "    else\n",
    "        ts_indicator[i-1] = ts_indicator[i-2]   \n",
    "}"
   ]
  },
  {
   "cell_type": "markdown",
   "metadata": {},
   "source": [
    "(c) Compute the correlation of these two indicators."
   ]
  },
  {
   "cell_type": "code",
   "execution_count": null,
   "metadata": {
    "collapsed": true
   },
   "outputs": [],
   "source": [
    "# (c) Compute the correlation of these two indicators\n",
    "correlation = cor(ts_indicator, tradeSigns[-1])\n",
    "cat(\"(c) The correlation of these two indicators:\", correlation, \"\\n\")"
   ]
  },
  {
   "cell_type": "markdown",
   "metadata": {},
   "source": [
    "(d) Assume the rule in part (a) is 100% accurate.  What percentage of trades are correctly signed by the Lee-Ready test?"
   ]
  },
  {
   "cell_type": "code",
   "execution_count": null,
   "metadata": {
    "collapsed": true
   },
   "outputs": [],
   "source": []
  },
  {
   "cell_type": "markdown",
   "metadata": {},
   "source": [
    "(e) Explain the relationship between your answers in (c) and (d)."
   ]
  },
  {
   "cell_type": "code",
   "execution_count": null,
   "metadata": {
    "collapsed": true
   },
   "outputs": [],
   "source": []
  },
  {
   "cell_type": "markdown",
   "metadata": {},
   "source": [
    "## Realized spread by exchange"
   ]
  },
  {
   "cell_type": "markdown",
   "metadata": {},
   "source": [
    "### 3. (8 points)\n",
    "\n",
    "(a) Reproduce Figure 6 from the lecture slides, making sure to get the aesthetics right.\n",
    "\n",
    "(b) Explain why the realized spread profile varies by exchange.\n",
    "\n",
    "(c) Redo the picture adjusting for the following (assumed) take fees:\n",
    "\n",
    "** Exchange ** | ** Take fee ** \n",
    "--- | --- \n",
    "| (**cents**)\n",
    "D | 0.10 \n",
    "B | -0.04\n",
    "Z | 0.29\n",
    "Y | 0.00\n",
    "P | 0.25\n",
    "\n",
    "(d) Based on your results, where would you advise sending a small market order?  How about a large one?\n"
   ]
  },
  {
   "cell_type": "markdown",
   "metadata": {},
   "source": [
    "## Predicting trade signs"
   ]
  },
  {
   "cell_type": "markdown",
   "metadata": {},
   "source": [
    "### 4. (6 points) \n",
    "\n",
    "The following require the *tradeSigns* series from Problem 2.\n",
    "\n",
    "(a) Denote the probability of a sign reversal by $\\pi$.  Derive an expression in terms of $\\pi$ for the conditional expectation $\\E[\\epsilon_t|\\epsilon_{t-1}]$.\n",
    "\n",
    "(b) Assume zero expectation of the trading signs, fit an AR(1) model to the series *tradeSigns*.  What is the coefficient returned by this model?  Explain how  this coefficient relates to $\\pi$?\n"
   ]
  },
  {
   "cell_type": "markdown",
   "metadata": {},
   "source": [
    "## The MRR model"
   ]
  },
  {
   "cell_type": "markdown",
   "metadata": {},
   "source": [
    "### 5. (6 points)\n",
    "Using the estimate of $\\rho$ (the coefficient obtained from fitting to an AR(1) model) from Problem 4 and equation (11) from the lecture slides:\n",
    "\n",
    "$$\n",
    "\\Delta p_t=(\\phi+\\lambda)\\,\\epsilon_t-(\\phi+\\rho\\,\\lambda)\\,\\epsilon_{t-1}+e_t+\\Delta \\xi_t\n",
    "$$\n",
    "\n",
    "estimate by linear regression the MRR parameters $\\phi$ (transaction cost) and $\\lambda$ (adverse selection or \"Kyle lambda\") from  *tqBAC*.  This amounts to ignoring the autocorrelation of the $\\Delta \\xi_t$.\n",
    "<br>\n",
    "\n",
    "Hint: Use the R function *lm*  to perform the linear regressions."
   ]
  }
 ],
 "metadata": {
  "kernelspec": {
   "display_name": "R",
   "language": "R",
   "name": "ir"
  },
  "language_info": {
   "codemirror_mode": "r",
   "file_extension": ".r",
   "mimetype": "text/x-r-source",
   "name": "R",
   "pygments_lexer": "r",
   "version": "3.2.2"
  }
 },
 "nbformat": 4,
 "nbformat_minor": 0
}
